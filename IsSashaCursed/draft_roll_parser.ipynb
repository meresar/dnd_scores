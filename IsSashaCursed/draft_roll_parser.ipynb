{
 "cells": [
  {
   "cell_type": "markdown",
   "id": "9a86630f-cb89-49e2-954d-4daf377bff61",
   "metadata": {},
   "source": [
    "# GOBLIN TIME PARTY TIME roll parser\n",
    "### September 2023\n",
    "\n",
    "My D&D group has had 2 hella long campaigns: \"Gods' Blood Shed\" (2012-2017) and \"The Athenaeum\" (2018-present). I eventually want to look at rolls for them, and that/those notebooks will be basically identical to this, but I wanted to start with the time I ran the \"We Be Goblins\" pathfinder module (\"humorously\" imo, named GOBLIN TIME PARTY TIME on roll20). This was a one night game and I built in a lot of things for the players so hopefully there's more consistency. It's also obviously much shorter, so things should run faster and give me a chance to work through issues without things taking forever.\n",
    "\n",
    "Generally speaking, in all of these campaigns we didn't really use Roll20's built in character sheet options, so our rolls are more \"raw\" than they seem to be in the [inspiration for this project](https://github.com/axlan/roll20-chatlog-stats/tree/main): I should be able to reuse some of his work, but it'll need lots of modifications.\n",
    "\n",
    "I'm choosing to ignore inline rolls from character sheets (for this test at least) since we have one (1) of those in this game and they're handled differently. I'm also only looking at players, not the GM (for both this test and in general) because for the other games I *wasn't* the GM and the chat logs I have don't include his rolls.\n",
    "\n",
    "I've got the chat log downloaded from roll20 as a single page and saved locally on my computer. \n",
    "\n",
    "This is one roll\n",
    "![screenshot of html](../a_roll.png)\n",
    "\n",
    "Important note! Crit successes and crit fails look different from normal rolls (for d20 and d_other): note the `critsuccess` and `critfail` (will need to work out how to handle this)\n",
    "\n",
    "![screenshot of nat20](../nat20.png)\n",
    "![screenshot of nat1](../nat1.png)"
   ]
  },
  {
   "cell_type": "markdown",
   "id": "1496e02e-7640-476f-9808-8858e798d7b4",
   "metadata": {},
   "source": [
    "From a roll I will eventually need\n",
    "* the `data-playerid` matched to the player \n",
    "    - we weren't always consistent about the names, so the player id is going to be the only consistent way to do this\n",
    "    - make a table of `data-playerid`s and `class=\"by\"`s\n",
    "* the `class=\"diceroll d20` or `d##` whatever number\n",
    "    - I want to look at all the different dice that got rolled, not just the d20s\n",
    "    - will need to check `crit*` to see if that will matter in my scraping\n",
    "* the `class=\"didroll\"` text to get the actual roll result for each die\n"
   ]
  },
  {
   "cell_type": "code",
   "execution_count": 2,
   "id": "d98b487c-72fd-4a53-86ca-cbfa8cc32571",
   "metadata": {},
   "outputs": [],
   "source": [
    "from bs4 import BeautifulSoup\n",
    "import pandas as pd\n",
    "\n",
    "# I locally saved the one page version of the chat log just to simplify\n",
    "with open('../Chat Log for GOBLIN TIME PARTY TIME.html', mode='r', encoding=\"utf8\") as chatlog:\n",
    "    html_doc = chatlog.read()\n",
    "\n",
    "soup = BeautifulSoup(html_doc, 'html.parser')"
   ]
  },
  {
   "cell_type": "code",
   "execution_count": 3,
   "id": "5e8948f5-7f61-40d2-bdfb-8aa9d8911ab9",
   "metadata": {},
   "outputs": [
    {
     "data": {
      "text/plain": [
       "{'(To GM):',\n",
       " 'Chuffy Lickwound:',\n",
       " 'Chuffy:',\n",
       " 'Meredith S. (GM):',\n",
       " 'Mogmurch:',\n",
       " 'POOG:',\n",
       " 'Poog of Zarongel:',\n",
       " 'Reta Bigbad:',\n",
       " 'Ryan N.:',\n",
       " 'Sasha S.:'}"
      ]
     },
     "execution_count": 3,
     "metadata": {},
     "output_type": "execute_result"
    }
   ],
   "source": [
    "player_ids = set(span.text for span in soup.find_all('span', {'class':\"by\"}))\n",
    "player_ids"
   ]
  },
  {
   "cell_type": "code",
   "execution_count": 4,
   "id": "b3299ac0-6dd0-4f49-a33d-bb593d9db986",
   "metadata": {
    "scrolled": true,
    "tags": []
   },
   "outputs": [
    {
     "data": {
      "text/plain": [
       "{'d10', 'd20', 'd24', 'd30', 'd4', 'd6', 'd8'}"
      ]
     },
     "execution_count": 4,
     "metadata": {},
     "output_type": "execute_result"
    }
   ],
   "source": [
    "\n",
    "d20rolls = [div.find('div', {\"class\":\"didroll\"}).text for div in soup.find_all('div', class_=\"diceroll\")]\n",
    "whichdie = [div[\"class\"][1] for div in soup.find_all('div', class_=\"diceroll\")]\n",
    "set(whichdie)\n"
   ]
  },
  {
   "cell_type": "code",
   "execution_count": 5,
   "id": "d872017c-2298-4910-abc9-e247222ac17d",
   "metadata": {},
   "outputs": [
    {
     "data": {
      "text/plain": [
       "{'player--N_Z4XzpmqSD1Cmb6ESj',\n",
       " 'player--Na9_XYpVB_KcdD88kR0',\n",
       " 'player--Na9ao63L8CSB_no01ch',\n",
       " 'player--Na9au2P-jbgj7brQ7hx',\n",
       " 'player--Na9avp1nLcwR0AVnI-f'}"
      ]
     },
     "execution_count": 5,
     "metadata": {},
     "output_type": "execute_result"
    }
   ],
   "source": [
    "player_ids = []\n",
    "\n",
    "for div in soup.find_all('div'):\n",
    "    if div.has_attr(\"class\"):\n",
    "        if 'rollresult' in div[\"class\"]:\n",
    "            player_ids.append(div[\"class\"][-1])\n",
    "            \n",
    "set(player_ids)"
   ]
  },
  {
   "cell_type": "code",
   "execution_count": 7,
   "id": "a9b2d041-ce1a-4d8b-bcae-34238aa748a9",
   "metadata": {},
   "outputs": [
    {
     "name": "stdout",
     "output_type": "stream",
     "text": [
      "Meredith S. (GM):\n"
     ]
    },
    {
     "ename": "AttributeError",
     "evalue": "'NoneType' object has no attribute 'text'",
     "output_type": "error",
     "traceback": [
      "\u001b[0;31m---------------------------------------------------------------------------\u001b[0m",
      "\u001b[0;31mAttributeError\u001b[0m                            Traceback (most recent call last)",
      "\u001b[0;32m/tmp/ipykernel_9011/251028412.py\u001b[0m in \u001b[0;36m<module>\u001b[0;34m\u001b[0m\n\u001b[1;32m      1\u001b[0m \u001b[0;32mfor\u001b[0m \u001b[0mdiv\u001b[0m \u001b[0;32min\u001b[0m \u001b[0msoup\u001b[0m\u001b[0;34m.\u001b[0m\u001b[0mfind_all\u001b[0m\u001b[0;34m(\u001b[0m\u001b[0;34m'div'\u001b[0m\u001b[0;34m,\u001b[0m \u001b[0mclass_\u001b[0m\u001b[0;34m=\u001b[0m\u001b[0;34m'player--N_Z4XzpmqSD1Cmb6ESj'\u001b[0m\u001b[0;34m)\u001b[0m\u001b[0;34m:\u001b[0m\u001b[0;34m\u001b[0m\u001b[0;34m\u001b[0m\u001b[0m\n\u001b[0;32m----> 2\u001b[0;31m     \u001b[0;32mif\u001b[0m \u001b[0mdiv\u001b[0m\u001b[0;34m.\u001b[0m\u001b[0mfind\u001b[0m\u001b[0;34m(\u001b[0m\u001b[0;34m\"span\"\u001b[0m\u001b[0;34m,\u001b[0m \u001b[0;34m{\u001b[0m\u001b[0;34m\"class\"\u001b[0m\u001b[0;34m:\u001b[0m\u001b[0;34m\"by\"\u001b[0m\u001b[0;34m}\u001b[0m\u001b[0;34m)\u001b[0m\u001b[0;34m.\u001b[0m\u001b[0mtext\u001b[0m \u001b[0;32mis\u001b[0m \u001b[0;32mnot\u001b[0m \u001b[0;32mNone\u001b[0m\u001b[0;34m:\u001b[0m\u001b[0;34m\u001b[0m\u001b[0;34m\u001b[0m\u001b[0m\n\u001b[0m\u001b[1;32m      3\u001b[0m         \u001b[0mprint\u001b[0m\u001b[0;34m(\u001b[0m\u001b[0mdiv\u001b[0m\u001b[0;34m.\u001b[0m\u001b[0mfind\u001b[0m\u001b[0;34m(\u001b[0m\u001b[0;34m\"span\"\u001b[0m\u001b[0;34m,\u001b[0m \u001b[0;34m{\u001b[0m\u001b[0;34m\"class\"\u001b[0m\u001b[0;34m:\u001b[0m\u001b[0;34m\"by\"\u001b[0m\u001b[0;34m}\u001b[0m\u001b[0;34m)\u001b[0m\u001b[0;34m.\u001b[0m\u001b[0mtext\u001b[0m\u001b[0;34m)\u001b[0m\u001b[0;34m\u001b[0m\u001b[0;34m\u001b[0m\u001b[0m\n\u001b[1;32m      4\u001b[0m \u001b[0;34m\u001b[0m\u001b[0m\n",
      "\u001b[0;31mAttributeError\u001b[0m: 'NoneType' object has no attribute 'text'"
     ]
    }
   ],
   "source": [
    "for div in soup.find_all('div', class_='player--N_Z4XzpmqSD1Cmb6ESj'):\n",
    "    if div.find(\"span\", {\"class\":\"by\"}).text is not None:\n",
    "        print(div.find(\"span\", {\"class\":\"by\"}).text)\n",
    "    "
   ]
  },
  {
   "cell_type": "code",
   "execution_count": 8,
   "id": "257a5027-946c-4965-8bcb-e917990a4784",
   "metadata": {},
   "outputs": [],
   "source": [
    "messages = soup.find_all('div', 'message')\n"
   ]
  },
  {
   "cell_type": "code",
   "execution_count": 9,
   "id": "8f7077fe-4c23-435b-8944-5de91d2cf7e6",
   "metadata": {},
   "outputs": [],
   "source": [
    "for message in messages:\n",
    "    tstamp = message.find(class_='tstamp')"
   ]
  },
  {
   "cell_type": "code",
   "execution_count": 10,
   "id": "9778d75a-fa43-446b-bb96-566fd9c01989",
   "metadata": {},
   "outputs": [
    {
     "ename": "AttributeError",
     "evalue": "'NoneType' object has no attribute 'text'",
     "output_type": "error",
     "traceback": [
      "\u001b[0;31m---------------------------------------------------------------------------\u001b[0m",
      "\u001b[0;31mAttributeError\u001b[0m                            Traceback (most recent call last)",
      "\u001b[0;32m/tmp/ipykernel_9011/2210094847.py\u001b[0m in \u001b[0;36m<module>\u001b[0;34m\u001b[0m\n\u001b[0;32m----> 1\u001b[0;31m \u001b[0mprint\u001b[0m\u001b[0;34m(\u001b[0m\u001b[0mpd\u001b[0m\u001b[0;34m.\u001b[0m\u001b[0mto_datetime\u001b[0m\u001b[0;34m(\u001b[0m\u001b[0mmessages\u001b[0m\u001b[0;34m[\u001b[0m\u001b[0;36m10\u001b[0m\u001b[0;34m]\u001b[0m\u001b[0;34m.\u001b[0m\u001b[0mfind\u001b[0m\u001b[0;34m(\u001b[0m\u001b[0mclass_\u001b[0m\u001b[0;34m=\u001b[0m\u001b[0;34m\"tstamp\"\u001b[0m\u001b[0;34m)\u001b[0m\u001b[0;34m.\u001b[0m\u001b[0mtext\u001b[0m\u001b[0;34m)\u001b[0m\u001b[0;34m)\u001b[0m\u001b[0;34m\u001b[0m\u001b[0;34m\u001b[0m\u001b[0m\n\u001b[0m",
      "\u001b[0;31mAttributeError\u001b[0m: 'NoneType' object has no attribute 'text'"
     ]
    }
   ],
   "source": [
    "print(pd.to_datetime(messages[10].find(class_=\"tstamp\").text))"
   ]
  },
  {
   "cell_type": "code",
   "execution_count": 11,
   "id": "e4a8f29a-09ec-467f-ad9d-4d64003a2189",
   "metadata": {},
   "outputs": [],
   "source": [
    "roll_messages = []\n",
    "\n",
    "for div in soup.find_all('div'):\n",
    "    if div.has_attr(\"class\"):\n",
    "        if 'rollresult' in div[\"class\"]:\n",
    "            roll_messages.append(div)"
   ]
  },
  {
   "cell_type": "code",
   "execution_count": 56,
   "id": "4f374341-2444-4209-80d9-3fba529b8684",
   "metadata": {},
   "outputs": [
    {
     "data": {
      "text/html": [
       "<div>\n",
       "<style scoped>\n",
       "    .dataframe tbody tr th:only-of-type {\n",
       "        vertical-align: middle;\n",
       "    }\n",
       "\n",
       "    .dataframe tbody tr th {\n",
       "        vertical-align: top;\n",
       "    }\n",
       "\n",
       "    .dataframe thead th {\n",
       "        text-align: right;\n",
       "    }\n",
       "</style>\n",
       "<table border=\"1\" class=\"dataframe\">\n",
       "  <thead>\n",
       "    <tr style=\"text-align: right;\">\n",
       "      <th></th>\n",
       "      <th>player_id</th>\n",
       "      <th>roller</th>\n",
       "    </tr>\n",
       "  </thead>\n",
       "  <tbody>\n",
       "    <tr>\n",
       "      <th>11</th>\n",
       "      <td>player--N_Z4XzpmqSD1Cmb6ESj</td>\n",
       "      <td>Meredith S. (GM):</td>\n",
       "    </tr>\n",
       "    <tr>\n",
       "      <th>0</th>\n",
       "      <td>player--Na9_XYpVB_KcdD88kR0</td>\n",
       "      <td>Chuffy:</td>\n",
       "    </tr>\n",
       "    <tr>\n",
       "      <th>34</th>\n",
       "      <td>player--Na9_XYpVB_KcdD88kR0</td>\n",
       "      <td>Chuffy Lickwound:</td>\n",
       "    </tr>\n",
       "    <tr>\n",
       "      <th>2</th>\n",
       "      <td>player--Na9ao63L8CSB_no01ch</td>\n",
       "      <td>Ryan N.:</td>\n",
       "    </tr>\n",
       "    <tr>\n",
       "      <th>6</th>\n",
       "      <td>player--Na9ao63L8CSB_no01ch</td>\n",
       "      <td>POOG:</td>\n",
       "    </tr>\n",
       "    <tr>\n",
       "      <th>89</th>\n",
       "      <td>player--Na9ao63L8CSB_no01ch</td>\n",
       "      <td>Poog of Zarongel:</td>\n",
       "    </tr>\n",
       "    <tr>\n",
       "      <th>1</th>\n",
       "      <td>player--Na9au2P-jbgj7brQ7hx</td>\n",
       "      <td>Mogmurch:</td>\n",
       "    </tr>\n",
       "    <tr>\n",
       "      <th>3</th>\n",
       "      <td>player--Na9avp1nLcwR0AVnI-f</td>\n",
       "      <td>Sasha S.:</td>\n",
       "    </tr>\n",
       "    <tr>\n",
       "      <th>31</th>\n",
       "      <td>player--Na9avp1nLcwR0AVnI-f</td>\n",
       "      <td>Reta Bigbad:</td>\n",
       "    </tr>\n",
       "  </tbody>\n",
       "</table>\n",
       "</div>"
      ],
      "text/plain": [
       "                      player_id             roller\n",
       "11  player--N_Z4XzpmqSD1Cmb6ESj  Meredith S. (GM):\n",
       "0   player--Na9_XYpVB_KcdD88kR0            Chuffy:\n",
       "34  player--Na9_XYpVB_KcdD88kR0  Chuffy Lickwound:\n",
       "2   player--Na9ao63L8CSB_no01ch           Ryan N.:\n",
       "6   player--Na9ao63L8CSB_no01ch              POOG:\n",
       "89  player--Na9ao63L8CSB_no01ch  Poog of Zarongel:\n",
       "1   player--Na9au2P-jbgj7brQ7hx          Mogmurch:\n",
       "3   player--Na9avp1nLcwR0AVnI-f          Sasha S.:\n",
       "31  player--Na9avp1nLcwR0AVnI-f       Reta Bigbad:"
      ]
     },
     "execution_count": 56,
     "metadata": {},
     "output_type": "execute_result"
    }
   ],
   "source": [
    "player_id_ref = []\n",
    "rollers = []\n",
    "\n",
    "for message in roll_messages:\n",
    "    if message.find('span', {\"class\":\"by\"}) is not None:\n",
    "        p_id = message[\"class\"][-1]\n",
    "        r_name = message.find('span', {\"class\":\"by\"}).text\n",
    "        \n",
    "        player_id_ref.append(p_id)\n",
    "        rollers.append(r_name)\n",
    "        \n",
    "id_to_name = pd.DataFrame({'player_id':player_id_ref,\n",
    "                           'roller':rollers}).drop_duplicates().sort_values(by=['player_id'])\n",
    "\n",
    "id_to_name"
   ]
  },
  {
   "cell_type": "code",
   "execution_count": 127,
   "id": "54fd07a2-5849-4b9c-8ae5-d2868db7bfdd",
   "metadata": {},
   "outputs": [
    {
     "name": "stdout",
     "output_type": "stream",
     "text": [
      "None\n",
      "player--Na9_XYpVB_KcdD88kR0\n",
      "None\n",
      "['d20', 'd20', 'd20']\n",
      "['17', '7', '14']\n"
     ]
    }
   ],
   "source": [
    "n=1\n",
    "\n",
    "#print(pd.to_datetime(roll_messages[n].find(class_=\"tstamp\").text)) #timestamp\n",
    "print(roll_messages[n].find(class_=\"tstamp\")) #alt timestamp\n",
    "print(roll_messages[n][\"class\"][-1]) #playerid\n",
    "print(roll_messages[n].find('span', {'class':\"by\"})) # roller\n",
    "print([div[\"class\"][1] for div in roll_messages[n].find_all('div', class_=\"diceroll\")]) #die_type\n",
    "print([div.text for div in roll_messages[n].find_all(\"div\",\"didroll\")]) #roll result"
   ]
  },
  {
   "cell_type": "code",
   "execution_count": 131,
   "id": "16cb4514-3695-4981-8b8d-d657c043fb70",
   "metadata": {
    "scrolled": true,
    "tags": []
   },
   "outputs": [
    {
     "name": "stdout",
     "output_type": "stream",
     "text": [
      "<span aria-hidden=\"true\" class=\"tstamp\">July 24, 2023 7:14PM</span>\n",
      "<span class=\"by\">Chuffy:</span>\n",
      "player--Na9_XYpVB_KcdD88kR0\n",
      "['d20']\n",
      "['19']\n",
      "_______________\n",
      "None\n",
      "None\n",
      "player--Na9_XYpVB_KcdD88kR0\n",
      "['d20', 'd20', 'd20']\n",
      "['17', '7', '14']\n",
      "_______________\n",
      "None\n",
      "None\n",
      "player--Na9_XYpVB_KcdD88kR0\n",
      "['d20', 'd20', 'd20']\n",
      "['10', '19', '19']\n",
      "_______________\n",
      "<span aria-hidden=\"true\" class=\"tstamp\">July 24, 2023 7:39PM</span>\n",
      "<span class=\"by\">Mogmurch:</span>\n",
      "player--Na9au2P-jbgj7brQ7hx\n",
      "['d20']\n",
      "['8']\n",
      "_______________\n",
      "<span aria-hidden=\"true\" class=\"tstamp\">July 24, 2023 7:39PM</span>\n",
      "<span class=\"by\">Ryan N.:</span>\n",
      "player--Na9ao63L8CSB_no01ch\n",
      "['d20']\n",
      "['3']\n",
      "_______________\n",
      "<span aria-hidden=\"true\" class=\"tstamp\">July 24, 2023 7:39PM</span>\n",
      "<span class=\"by\">Sasha S.:</span>\n",
      "player--Na9avp1nLcwR0AVnI-f\n",
      "['d20']\n",
      "['2']\n",
      "_______________\n",
      "<span aria-hidden=\"true\" class=\"tstamp\">July 24, 2023 7:40PM</span>\n",
      "<span class=\"by\">Chuffy:</span>\n",
      "player--Na9_XYpVB_KcdD88kR0\n",
      "['d20']\n",
      "['2']\n",
      "_______________\n",
      "None\n",
      "None\n",
      "player--Na9au2P-jbgj7brQ7hx\n",
      "['d20']\n",
      "['17']\n",
      "_______________\n",
      "<span aria-hidden=\"true\" class=\"tstamp\">July 24, 2023 7:43PM</span>\n",
      "<span class=\"by\">Chuffy:</span>\n",
      "player--Na9_XYpVB_KcdD88kR0\n",
      "['d20']\n",
      "['1']\n",
      "_______________\n",
      "<span aria-hidden=\"true\" class=\"tstamp\">July 24, 2023 7:43PM</span>\n",
      "<span class=\"by\">POOG:</span>\n",
      "player--Na9ao63L8CSB_no01ch\n",
      "['d30']\n",
      "['7']\n",
      "_______________\n"
     ]
    },
    {
     "data": {
      "text/plain": [
       "[Timestamp('2023-07-24 19:14:00'),\n",
       " Timestamp('2023-07-24 19:14:00'),\n",
       " Timestamp('2023-07-24 19:14:00'),\n",
       " Timestamp('2023-07-24 19:39:00'),\n",
       " Timestamp('2023-07-24 19:39:00'),\n",
       " Timestamp('2023-07-24 19:39:00'),\n",
       " Timestamp('2023-07-24 19:40:00'),\n",
       " Timestamp('2023-07-24 19:40:00'),\n",
       " Timestamp('2023-07-24 19:43:00'),\n",
       " Timestamp('2023-07-24 19:43:00')]"
      ]
     },
     "execution_count": 131,
     "metadata": {},
     "output_type": "execute_result"
    }
   ],
   "source": [
    "test_ts = []\n",
    "for n in range(10):\n",
    "    ts = roll_messages[n].find(class_=\"tstamp\")\n",
    "    print(ts)\n",
    "    print(roll_messages[n].find('span', {'class':\"by\"}))\n",
    "    print(roll_messages[n][\"class\"][-1])\n",
    "    print([div[\"class\"][1] for div in roll_messages[n].find_all('div', class_=\"diceroll\")]) #die_type\n",
    "    print([div.text for div in roll_messages[n].find_all(\"div\",\"didroll\")]) #roll result\n",
    "    print('_______________')\n",
    "    if ts is not None:\n",
    "        test_ts.append(pd.to_datetime(ts.text))\n",
    "    else:\n",
    "        re_ts = test_ts[-1]\n",
    "        test_ts.append(re_ts)\n",
    "test_ts\n",
    "\n",
    "# not deleting this because some of it is useful\n",
    "# BUT\n",
    "# if you just look at roll messages and the player typed a general message before the roll,\n",
    "# you wont be able to get the timestamp or the player name from the roll message\n",
    "# but frankly, I didn't really care about the timestamps anyway"
   ]
  },
  {
   "cell_type": "code",
   "execution_count": null,
   "id": "73240a53-f15b-49f3-acf6-1ded41aa642a",
   "metadata": {},
   "outputs": [],
   "source": [
    "timestamps = []\n",
    "player_ids = [] #roll20 unique id\n",
    "roller = [] #might be player or character name\n",
    "die_type = []\n",
    "roll_result = []\n",
    "\n",
    "for message in roll_messages:"
   ]
  }
 ],
 "metadata": {
  "kernelspec": {
   "display_name": "Python 3 (ipykernel)",
   "language": "python",
   "name": "python3"
  },
  "language_info": {
   "codemirror_mode": {
    "name": "ipython",
    "version": 3
   },
   "file_extension": ".py",
   "mimetype": "text/x-python",
   "name": "python",
   "nbconvert_exporter": "python",
   "pygments_lexer": "ipython3",
   "version": "3.10.9"
  }
 },
 "nbformat": 4,
 "nbformat_minor": 5
}
