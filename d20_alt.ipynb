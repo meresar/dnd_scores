{
 "cells": [
  {
   "cell_type": "markdown",
   "id": "dd02e191-4645-480b-8d04-8d5d08c68dba",
   "metadata": {},
   "source": [
    "# Alternatives to d20\n",
    "\n",
    "Usually, we roll a 20 sided die to check for success or failure. Here, I'll consider some alternatives:\n",
    "\n",
    "- 1d20 (obviously equal probabilities of everything)\n",
    "  * advantage/disadvantage\n",
    "  * 2d20 average and truncate\n",
    "- 2d10 (no way to get a 1)"
   ]
  },
  {
   "cell_type": "code",
   "execution_count": 22,
   "id": "bb811d0a-16b3-41f9-aa13-95469fb5a99e",
   "metadata": {},
   "outputs": [],
   "source": [
    "import numpy as np\n",
    "import pandas as pd\n",
    "import matplotlib.pyplot as plt\n",
    "import seaborn; seaborn.set()\n",
    "\n",
    "\n",
    "# Set seed for reproducibility\n",
    "rng = np.random.RandomState(0)"
   ]
  },
  {
   "cell_type": "code",
   "execution_count": 36,
   "id": "3956f112-756c-4f9c-a37e-89e964223214",
   "metadata": {},
   "outputs": [],
   "source": [
    "two_d20 = pd.DataFrame(rng.randint(1, 21, size=(100000,2)),\n",
    "                       columns=['die_1','die_2']\n",
    "                      )\n",
    "two_d20.index.name = 'Roll'\n",
    "\n",
    "# Compute the variations\n",
    "two_d20['trunc_avg'] = np.trunc(two_d20.mean(axis='columns'))\n",
    "two_d20['disadvantage'] = two_d20.min(axis='columns')\n",
    "two_d20['advantage'] = two_d20.max(axis='columns')"
   ]
  },
  {
   "cell_type": "code",
   "execution_count": 37,
   "id": "8602f76a-363a-46ed-99dc-ea72e9d773fd",
   "metadata": {},
   "outputs": [
    {
     "data": {
      "text/html": [
       "<div>\n",
       "<style scoped>\n",
       "    .dataframe tbody tr th:only-of-type {\n",
       "        vertical-align: middle;\n",
       "    }\n",
       "\n",
       "    .dataframe tbody tr th {\n",
       "        vertical-align: top;\n",
       "    }\n",
       "\n",
       "    .dataframe thead th {\n",
       "        text-align: right;\n",
       "    }\n",
       "</style>\n",
       "<table border=\"1\" class=\"dataframe\">\n",
       "  <thead>\n",
       "    <tr style=\"text-align: right;\">\n",
       "      <th></th>\n",
       "      <th>die_1</th>\n",
       "      <th>die_2</th>\n",
       "      <th>trunc_avg</th>\n",
       "      <th>disadvantage</th>\n",
       "      <th>advantage</th>\n",
       "    </tr>\n",
       "  </thead>\n",
       "  <tbody>\n",
       "    <tr>\n",
       "      <th>count</th>\n",
       "      <td>100000.000000</td>\n",
       "      <td>100000.000000</td>\n",
       "      <td>100000.000000</td>\n",
       "      <td>100000.000000</td>\n",
       "      <td>100000.000000</td>\n",
       "    </tr>\n",
       "    <tr>\n",
       "      <th>mean</th>\n",
       "      <td>10.525850</td>\n",
       "      <td>10.497710</td>\n",
       "      <td>10.262320</td>\n",
       "      <td>7.188930</td>\n",
       "      <td>13.834630</td>\n",
       "    </tr>\n",
       "    <tr>\n",
       "      <th>std</th>\n",
       "      <td>5.750821</td>\n",
       "      <td>5.761723</td>\n",
       "      <td>4.078014</td>\n",
       "      <td>4.697891</td>\n",
       "      <td>4.702842</td>\n",
       "    </tr>\n",
       "    <tr>\n",
       "      <th>min</th>\n",
       "      <td>1.000000</td>\n",
       "      <td>1.000000</td>\n",
       "      <td>1.000000</td>\n",
       "      <td>1.000000</td>\n",
       "      <td>1.000000</td>\n",
       "    </tr>\n",
       "    <tr>\n",
       "      <th>25%</th>\n",
       "      <td>6.000000</td>\n",
       "      <td>5.000000</td>\n",
       "      <td>7.000000</td>\n",
       "      <td>3.000000</td>\n",
       "      <td>11.000000</td>\n",
       "    </tr>\n",
       "    <tr>\n",
       "      <th>50%</th>\n",
       "      <td>11.000000</td>\n",
       "      <td>11.000000</td>\n",
       "      <td>10.000000</td>\n",
       "      <td>6.000000</td>\n",
       "      <td>15.000000</td>\n",
       "    </tr>\n",
       "    <tr>\n",
       "      <th>75%</th>\n",
       "      <td>16.000000</td>\n",
       "      <td>15.000000</td>\n",
       "      <td>13.000000</td>\n",
       "      <td>11.000000</td>\n",
       "      <td>18.000000</td>\n",
       "    </tr>\n",
       "    <tr>\n",
       "      <th>max</th>\n",
       "      <td>20.000000</td>\n",
       "      <td>20.000000</td>\n",
       "      <td>20.000000</td>\n",
       "      <td>20.000000</td>\n",
       "      <td>20.000000</td>\n",
       "    </tr>\n",
       "  </tbody>\n",
       "</table>\n",
       "</div>"
      ],
      "text/plain": [
       "               die_1          die_2      trunc_avg   disadvantage  \\\n",
       "count  100000.000000  100000.000000  100000.000000  100000.000000   \n",
       "mean       10.525850      10.497710      10.262320       7.188930   \n",
       "std         5.750821       5.761723       4.078014       4.697891   \n",
       "min         1.000000       1.000000       1.000000       1.000000   \n",
       "25%         6.000000       5.000000       7.000000       3.000000   \n",
       "50%        11.000000      11.000000      10.000000       6.000000   \n",
       "75%        16.000000      15.000000      13.000000      11.000000   \n",
       "max        20.000000      20.000000      20.000000      20.000000   \n",
       "\n",
       "           advantage  \n",
       "count  100000.000000  \n",
       "mean       13.834630  \n",
       "std         4.702842  \n",
       "min         1.000000  \n",
       "25%        11.000000  \n",
       "50%        15.000000  \n",
       "75%        18.000000  \n",
       "max        20.000000  "
      ]
     },
     "execution_count": 37,
     "metadata": {},
     "output_type": "execute_result"
    }
   ],
   "source": [
    "two_d20.describe()"
   ]
  },
  {
   "cell_type": "code",
   "execution_count": 40,
   "id": "7afea673-36b3-48ed-a71b-fe6aa1ea8672",
   "metadata": {},
   "outputs": [],
   "source": [
    "two_d10 = pd.DataFrame(rng.randint(1, 11, size=(100000,2)),\n",
    "                       columns=['die_1','die_2']\n",
    "                      )\n",
    "two_d10.index.name = 'Roll'\n",
    "two_d10['sum'] = two_d10.sum(axis='columns')"
   ]
  },
  {
   "cell_type": "code",
   "execution_count": 41,
   "id": "ff8d2139-80c8-481c-a375-34ce5470505d",
   "metadata": {},
   "outputs": [
    {
     "data": {
      "text/html": [
       "<div>\n",
       "<style scoped>\n",
       "    .dataframe tbody tr th:only-of-type {\n",
       "        vertical-align: middle;\n",
       "    }\n",
       "\n",
       "    .dataframe tbody tr th {\n",
       "        vertical-align: top;\n",
       "    }\n",
       "\n",
       "    .dataframe thead th {\n",
       "        text-align: right;\n",
       "    }\n",
       "</style>\n",
       "<table border=\"1\" class=\"dataframe\">\n",
       "  <thead>\n",
       "    <tr style=\"text-align: right;\">\n",
       "      <th></th>\n",
       "      <th>die_1</th>\n",
       "      <th>die_2</th>\n",
       "      <th>sum</th>\n",
       "    </tr>\n",
       "  </thead>\n",
       "  <tbody>\n",
       "    <tr>\n",
       "      <th>count</th>\n",
       "      <td>100000.000000</td>\n",
       "      <td>100000.000000</td>\n",
       "      <td>100000.000000</td>\n",
       "    </tr>\n",
       "    <tr>\n",
       "      <th>mean</th>\n",
       "      <td>5.510560</td>\n",
       "      <td>5.501640</td>\n",
       "      <td>11.012200</td>\n",
       "    </tr>\n",
       "    <tr>\n",
       "      <th>std</th>\n",
       "      <td>2.871984</td>\n",
       "      <td>2.874164</td>\n",
       "      <td>4.067748</td>\n",
       "    </tr>\n",
       "    <tr>\n",
       "      <th>min</th>\n",
       "      <td>1.000000</td>\n",
       "      <td>1.000000</td>\n",
       "      <td>2.000000</td>\n",
       "    </tr>\n",
       "    <tr>\n",
       "      <th>25%</th>\n",
       "      <td>3.000000</td>\n",
       "      <td>3.000000</td>\n",
       "      <td>8.000000</td>\n",
       "    </tr>\n",
       "    <tr>\n",
       "      <th>50%</th>\n",
       "      <td>6.000000</td>\n",
       "      <td>5.000000</td>\n",
       "      <td>11.000000</td>\n",
       "    </tr>\n",
       "    <tr>\n",
       "      <th>75%</th>\n",
       "      <td>8.000000</td>\n",
       "      <td>8.000000</td>\n",
       "      <td>14.000000</td>\n",
       "    </tr>\n",
       "    <tr>\n",
       "      <th>max</th>\n",
       "      <td>10.000000</td>\n",
       "      <td>10.000000</td>\n",
       "      <td>20.000000</td>\n",
       "    </tr>\n",
       "  </tbody>\n",
       "</table>\n",
       "</div>"
      ],
      "text/plain": [
       "               die_1          die_2            sum\n",
       "count  100000.000000  100000.000000  100000.000000\n",
       "mean        5.510560       5.501640      11.012200\n",
       "std         2.871984       2.874164       4.067748\n",
       "min         1.000000       1.000000       2.000000\n",
       "25%         3.000000       3.000000       8.000000\n",
       "50%         6.000000       5.000000      11.000000\n",
       "75%         8.000000       8.000000      14.000000\n",
       "max        10.000000      10.000000      20.000000"
      ]
     },
     "execution_count": 41,
     "metadata": {},
     "output_type": "execute_result"
    }
   ],
   "source": [
    "two_d10.describe()"
   ]
  },
  {
   "cell_type": "code",
   "execution_count": 77,
   "id": "f4f38c2d-ecc8-42db-b9fd-9bb630debcef",
   "metadata": {},
   "outputs": [
    {
     "data": {
      "image/png": "[encoded data removed]",
      "text/plain": [
       "<Figure size 720x720 with 1 Axes>"
      ]
     },
     "metadata": {
      "needs_background": "light"
     },
     "output_type": "display_data"
    }
   ],
   "source": [
    "kwargs = dict(histtype='stepfilled', alpha=0.3, bins=20)\n",
    "\n",
    "plt.figure(figsize=(10,10))\n",
    "plt.hist(two_d20['die_1'], **kwargs, label='One d20')\n",
    "plt.hist(two_d20['trunc_avg'], **kwargs, label='Average of two d20s')\n",
    "\n",
    "plt.legend(loc='upper left')\n",
    "plt.show()"
   ]
  },
  {
   "cell_type": "code",
   "execution_count": 66,
   "id": "12afb57b-8954-4d81-a842-1987b3026355",
   "metadata": {},
   "outputs": [
    {
     "data": {
      "image/png": "[encoded data removed]",
      "text/plain": [
       "<Figure size 720x720 with 1 Axes>"
      ]
     },
     "metadata": {
      "needs_background": "light"
     },
     "output_type": "display_data"
    }
   ],
   "source": [
    "plt.figure(figsize=(10,10))\n",
    "\n",
    "plt.hist(two_d20['die_1'], **kwargs, label='One d20')\n",
    "plt.hist(two_d20['disadvantage'], **kwargs, label='Disadvantage: lower of two d20s')\n",
    "plt.hist(two_d20['advantage'], **kwargs, label='Advantage: higher of two d20s')\n",
    "\n",
    "plt.legend(loc='upper center')\n",
    "plt.show()"
   ]
  },
  {
   "cell_type": "code",
   "execution_count": 67,
   "id": "71304da5-aa07-4eef-a88a-bc1b65874876",
   "metadata": {},
   "outputs": [
    {
     "data": {
      "image/png": "[encoded data removed]",
      "text/plain": [
       "<Figure size 720x720 with 1 Axes>"
      ]
     },
     "metadata": {
      "needs_background": "light"
     },
     "output_type": "display_data"
    }
   ],
   "source": [
    "plt.figure(figsize=(10,10))\n",
    "\n",
    "plt.hist(two_d20['die_1'], **kwargs, label='One d20')\n",
    "plt.hist(two_d20['trunc_avg'], **kwargs, label='Average of two d20s')\n",
    "plt.hist(two_d10['sum'], histtype='stepfilled', alpha=0.3, bins=19, label='Sum of two d10s')\n",
    "\n",
    "plt.legend(loc='upper left')\n",
    "plt.show()"
   ]
  },
  {
   "cell_type": "code",
   "execution_count": null,
   "id": "0ed9c073-2fe9-43c6-9113-88cb3f7972ec",
   "metadata": {},
   "outputs": [],
   "source": []
  },
  {
   "cell_type": "code",
   "execution_count": null,
   "id": "aa91361b-b5d6-4f33-b282-051b1630ffd3",
   "metadata": {},
   "outputs": [],
   "source": []
  }
 ],
 "metadata": {
  "kernelspec": {
   "display_name": "Python 3 (ipykernel)",
   "language": "python",
   "name": "python3"
  },
  "language_info": {
   "codemirror_mode": {
    "name": "ipython",
    "version": 3
   },
   "file_extension": ".py",
   "mimetype": "text/x-python",
   "name": "python",
   "nbconvert_exporter": "python",
   "pygments_lexer": "ipython3",
   "version": "3.10.9"
  }
 },
 "nbformat": 4,
 "nbformat_minor": 5
}
